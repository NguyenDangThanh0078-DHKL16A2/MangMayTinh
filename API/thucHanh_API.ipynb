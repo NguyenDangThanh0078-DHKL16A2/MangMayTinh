{
 "cells": [
  {
   "cell_type": "code",
   "execution_count": 2,
   "id": "a42bd43a",
   "metadata": {},
   "outputs": [],
   "source": [
    "import requests \n",
    "import pandas as pd \n",
    "# Định nghĩa endpoint API và tham số truy vấn \n",
    "url = \"https://tiki.vn/api/v2/products\" \n",
    "params = { \n",
    "\"q\": \"sách\",      \n",
    "\"limit\": 10       \n",
    "} "
   ]
  },
  {
   "cell_type": "code",
   "execution_count": 3,
   "id": "6b4790c9",
   "metadata": {},
   "outputs": [],
   "source": [
    "\n",
    " # Từ khóa tìm kiếm \n",
    " # Số kết quả muốn lấy \n",
    "# Thêm User-Agent để giả lập trình duyệt thật \n",
    "headers = { \n",
    "\"User-Agent\": \"Mozilla/5.0\" \n",
    "} \n",
    "# Gửi request GET đến API \n",
    "response = requests.get(url, params=params, headers=headers) \n",
    "data = response.json()  # Parse dữ liệu JSON trả về "
   ]
  },
  {
   "cell_type": "code",
   "execution_count": 4,
   "metadata": {},
   "outputs": [
    {
     "name": "stdout",
     "output_type": "stream",
     "text": [
      "                                            Tên sách  Giá (nghìn VND)  \\\n",
      "0        Sách Đời Ngắn Đừng Ngủ Dài ( free bookcare)               71   \n",
      "1           Sách Tôi Tự Học (Tái Bản)- Free bookcare              120   \n",
      "2                                Đọc Sách, Điểm Sách               46   \n",
      "3  Sách Phân Tâm Học Nhập Môn (Tặng kèm Bộ Bookma...              143   \n",
      "4               Sách - Phương Pháp Đọc Sách Hiệu Quả              143   \n",
      "5                       Sách - Tâm lý học thành công              159   \n",
      "6                       Sách - Tâm lý học thành công              159   \n",
      "7              Sách - Trí Tuệ Do Thái (Tái Bản 2018)              151   \n",
      "8              Siêu Trí Nhớ (Tặng Kèm Bookmark Tiki)              111   \n",
      "9  Sách Nghệ Thuật Tư Duy Rành Mạch (Tặng kèm Bộ ...              125   \n",
      "\n",
      "  Thương hiệu  \n",
      "0    Không rõ  \n",
      "1    Không rõ  \n",
      "2    Không rõ  \n",
      "3    Không rõ  \n",
      "4    Không rõ  \n",
      "5    Không rõ  \n",
      "6    Không rõ  \n",
      "7    Không rõ  \n",
      "8    Không rõ  \n",
      "9    Không rõ  \n"
     ]
    }
   ],
   "source": [
    "\n",
    "# Khởi tạo danh sách để lưu trữ thông tin sách \n",
    "books = [] \n",
    "for item in data['data']:  # Duyệt qua từng sản phẩm trong mảng 'data' \n",
    "    books.append({ \n",
    "                'Tên sách': item['name'], \n",
    "                'Giá (nghìn VND)': item['price'] // 1000, \n",
    "                'Thương hiệu': item.get('brand', {}).get('name', 'Không rõ') \n",
    "                }) \n",
    "# Chuyển sang DataFrame để hiển thị dạng bảng \n",
    "df = pd.DataFrame(books) \n",
    "print(df)"
   ]
  }
 ],
 "metadata": {
  "kernelspec": {
   "display_name": "Python 3",
   "language": "python",
   "name": "python3"
  },
  "language_info": {
   "codemirror_mode": {
    "name": "ipython",
    "version": 3
   },
   "file_extension": ".py",
   "mimetype": "text/x-python",
   "name": "python",
   "nbconvert_exporter": "python",
   "pygments_lexer": "ipython3",
   "version": "3.11.5"
  }
 },
 "nbformat": 4,
 "nbformat_minor": 5
}
