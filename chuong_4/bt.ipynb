{
 "cells": [
  {
   "cell_type": "markdown",
   "id": "04318366",
   "metadata": {},
   "source": [
    "# 1"
   ]
  },
  {
   "cell_type": "code",
   "execution_count": 1,
   "id": "2e79dcec",
   "metadata": {},
   "outputs": [
    {
     "name": "stdout",
     "output_type": "stream",
     "text": [
      "Chuỗi blockchain ban đầu:\n",
      "Block 0:\n",
      "Message: Đây là khối đầu tiên\n",
      "Timestamp: 1747497510.531743\n",
      "Previous Hash: 0\n",
      "Hash: 0538e0eeb565a4efe6cf6f930e0f6ed9da3a96dab23033fc37400137ecff739d\n",
      "\n",
      "Block 1:\n",
      "Message: Đây là khối thứ hai\n",
      "Timestamp: 1747497510.531743\n",
      "Previous Hash: 0538e0eeb565a4efe6cf6f930e0f6ed9da3a96dab23033fc37400137ecff739d\n",
      "Hash: ab334b36203900f34ac5fd53622503e031ea4c9e276e9d75f3ea3f596e5ae9fd\n",
      "\n",
      "Block 2:\n",
      "Message: Đây là khối thứ ba\n",
      "Timestamp: 1747497510.531743\n",
      "Previous Hash: ab334b36203900f34ac5fd53622503e031ea4c9e276e9d75f3ea3f596e5ae9fd\n",
      "Hash: a9e5644359bf30d39676e2dd0f2352980270208aafa855fd525f1f485b4f1a52\n",
      "\n",
      "Chuỗi blockchain sau khi thay đổi khối giữa:\n",
      "Block 0:\n",
      "Message: Đây là khối đầu tiên\n",
      "Timestamp: 1747497510.531743\n",
      "Previous Hash: 0\n",
      "Hash: 0538e0eeb565a4efe6cf6f930e0f6ed9da3a96dab23033fc37400137ecff739d\n",
      "\n",
      "Block 1:\n",
      "Message: Đã bị thay đổi!\n",
      "Timestamp: 1747497510.531743\n",
      "Previous Hash: 0538e0eeb565a4efe6cf6f930e0f6ed9da3a96dab23033fc37400137ecff739d\n",
      "Hash: fe5e0cad0ad31ad22762cf4530bf158a012530a6cb872283b8a10b6767e06055\n",
      "\n",
      "Block 2:\n",
      "Message: Đây là khối thứ ba\n",
      "Timestamp: 1747497510.531743\n",
      "Previous Hash: fe5e0cad0ad31ad22762cf4530bf158a012530a6cb872283b8a10b6767e06055\n",
      "Hash: ebe510b40017eae4347592e4c99cc19ac4e93c793e82f352fd4cd7171e4adcff\n",
      "\n"
     ]
    }
   ],
   "source": [
    "import hashlib\n",
    "import time\n",
    "\n",
    "class Block:\n",
    "    def __init__(self, message, previous_hash):\n",
    "        self.timestamp = time.time()\n",
    "        self.message = message\n",
    "        self.previous_hash = previous_hash\n",
    "        self.hash = self.calculate_hash()\n",
    "\n",
    "    def calculate_hash(self):\n",
    "        block_content = f\"{self.timestamp}{self.message}{self.previous_hash}\"\n",
    "        return hashlib.sha256(block_content.encode()).hexdigest()\n",
    "\n",
    "    def __str__(self):\n",
    "        return (f\"Message: {self.message}\\n\"\n",
    "                f\"Timestamp: {self.timestamp}\\n\"\n",
    "                f\"Previous Hash: {self.previous_hash}\\n\"\n",
    "                f\"Hash: {self.hash}\\n\")\n",
    "\n",
    "# Tạo chuỗi blockchain gồm 3 khối\n",
    "blockchain = []\n",
    "\n",
    "# Khối đầu tiên (genesis block)\n",
    "genesis_block = Block(\"Đây là khối đầu tiên\", \"0\")\n",
    "blockchain.append(genesis_block)\n",
    "\n",
    "# Khối thứ hai\n",
    "second_block = Block(\"Đây là khối thứ hai\", genesis_block.hash)\n",
    "blockchain.append(second_block)\n",
    "\n",
    "# Khối thứ ba\n",
    "third_block = Block(\"Đây là khối thứ ba\", second_block.hash)\n",
    "blockchain.append(third_block)\n",
    "\n",
    "print(\"Chuỗi blockchain ban đầu:\")\n",
    "for i, block in enumerate(blockchain):\n",
    "    print(f\"Block {i}:\\n{block}\")\n",
    "\n",
    "# Thay đổi thông tin khối giữa (khối thứ hai)\n",
    "blockchain[1].message = \"Đã bị thay đổi!\"\n",
    "blockchain[1].hash = blockchain[1].calculate_hash()\n",
    "blockchain[2].previous_hash = blockchain[1].hash\n",
    "blockchain[2].hash = blockchain[2].calculate_hash()\n",
    "\n",
    "print(\"Chuỗi blockchain sau khi thay đổi khối giữa:\")\n",
    "for i, block in enumerate(blockchain):\n",
    "    print(f\"Block {i}:\\n{block}\")"
   ]
  },
  {
   "cell_type": "markdown",
   "id": "5c403fce",
   "metadata": {},
   "source": [
    "# 2\n"
   ]
  },
  {
   "cell_type": "code",
   "execution_count": 2,
   "id": "1862d434",
   "metadata": {},
   "outputs": [
    {
     "name": "stdout",
     "output_type": "stream",
     "text": [
      "Mã băm SHA-256 của chuỗi ban đầu:\n",
      "0b4c62acca23587fe72daa1b3e1ffd0fd404195c18648a2738a65576b46b2ddc\n",
      "\n",
      "Chuỗi sau khi thay đổi một ký tự: okX\n",
      "Mã băm SHA-256 sau khi thay đổi:\n",
      "4c15d3dbff94da4810552c069355bc14d775e63426a643cacfc72c6dc7277c0e\n"
     ]
    }
   ],
   "source": [
    "# Nhập chuỗi bất kỳ\n",
    "import hashlib\n",
    "\n",
    "chuoi = input(\"Nhập chuỗi bất kỳ: \")\n",
    "hash1 = hashlib.sha256(chuoi.encode()).hexdigest()\n",
    "print(f\"Mã băm SHA-256 của chuỗi ban đầu:\\n{hash1}\")\n",
    "\n",
    "# Thay đổi một ký tự trong chuỗi\n",
    "chuoi_moi = chuoi[:-1] + ('X' if chuoi[-1] != 'X' else 'Y')\n",
    "hash2 = hashlib.sha256(chuoi_moi.encode()).hexdigest()\n",
    "print(f\"\\nChuỗi sau khi thay đổi một ký tự: {chuoi_moi}\")\n",
    "print(f\"Mã băm SHA-256 sau khi thay đổi:\\n{hash2}\")\n"
   ]
  },
  {
   "cell_type": "markdown",
   "id": "ba1ab8e1",
   "metadata": {},
   "source": [
    "Nhận xét: Khi chỉ thay đổi một ký tự nhỏ trong chuỗi, mã băm SHA-256 thay đổi hoàn toàn, cho thấy tính nhạy cảm của hàm băm"
   ]
  },
  {
   "cell_type": "markdown",
   "id": "ab4244b2",
   "metadata": {},
   "source": [
    "# 3"
   ]
  },
  {
   "cell_type": "code",
   "execution_count": 6,
   "id": "96f0d838",
   "metadata": {},
   "outputs": [
    {
     "name": "stdout",
     "output_type": "stream",
     "text": [
      "Đã đọc mã nguồn hợp đồng:\n",
      "// SPDX-License-Identifier: MIT\n",
      "pragma solidity ^0.8.0;\n",
      "\n",
      "contract Message {\n",
      "    string public message;\n",
      "\n",
      "    constructor(string memory initMessage) {\n",
      "        message = initMessage;\n",
      "    }\n",
      "\n",
      "    function ...\n",
      "Đã biên dịch thành công!\n"
     ]
    }
   ],
   "source": [
    "from solcx import set_solc_version, compile_standard \n",
    " \n",
    "# Đặt đúng phiên bản `solc` đã cài \n",
    "# ...existing code...\n",
    "from solcx import install_solc, set_solc_version, compile_standard\n",
    "\n",
    "# Cài đặt solc phiên bản 0.8.20 nếu chưa có\n",
    "install_solc('0.8.20')\n",
    "set_solc_version('0.8.20')\n",
    "PATH = 'Message.sol'\n",
    "# Đọc nội dung của file `Message.sol` và lưu vào biến `contract_source_code`\n",
    "with open(PATH, \"r\", encoding=\"utf-8\") as file:\n",
    "    contract_source_code = file.read()\n",
    "print(\"Đã đọc mã nguồn hợp đồng:\")\n",
    "print(contract_source_code[:200] + \"...\")  # In thử 200 ký tự đầu để kiểm tra\n",
    "# Dùng `compile_standard` để biên dịch hợp đồng\n",
    "compiled_sol = compile_standard({\n",
    "    \"language\": \"Solidity\",\n",
    "    \"sources\": {\n",
    "        \"Message.sol\": {\n",
    "            \"content\": contract_source_code\n",
    "        }\n",
    "    },\n",
    "    \"settings\": {\n",
    "        \"outputSelection\": {\n",
    "            \"*\": {\n",
    "                \"*\": [\"abi\", \"evm.bytecode\"]\n",
    "            }\n",
    "        }\n",
    "    }\n",
    "})\n",
    "print(\"Đã biên dịch thành công!\")\n"
   ]
  }
 ],
 "metadata": {
  "kernelspec": {
   "display_name": "base",
   "language": "python",
   "name": "python3"
  },
  "language_info": {
   "codemirror_mode": {
    "name": "ipython",
    "version": 3
   },
   "file_extension": ".py",
   "mimetype": "text/x-python",
   "name": "python",
   "nbconvert_exporter": "python",
   "pygments_lexer": "ipython3",
   "version": "3.12.7"
  }
 },
 "nbformat": 4,
 "nbformat_minor": 5
}
