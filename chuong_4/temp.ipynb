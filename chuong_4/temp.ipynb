{
 "cells": [
  {
   "cell_type": "code",
   "execution_count": 4,
   "id": "857623cf",
   "metadata": {},
   "outputs": [
    {
     "name": "stdout",
     "output_type": "stream",
     "text": [
      "Note: you may need to restart the kernel to use updated packages.\n"
     ]
    },
    {
     "name": "stderr",
     "output_type": "stream",
     "text": [
      "ERROR: Could not find a version that satisfies the requirement wed3 (from versions: none)\n",
      "ERROR: No matching distribution found for wed3\n"
     ]
    }
   ],
   "source": [
    "pip install wed3"
   ]
  },
  {
   "cell_type": "code",
   "execution_count": 3,
   "id": "a18e70c2",
   "metadata": {},
   "outputs": [
    {
     "ename": "ModuleNotFoundError",
     "evalue": "No module named 'wed3'",
     "output_type": "error",
     "traceback": [
      "\u001b[1;31m---------------------------------------------------------------------------\u001b[0m",
      "\u001b[1;31mModuleNotFoundError\u001b[0m                       Traceback (most recent call last)",
      "Cell \u001b[1;32mIn[3], line 1\u001b[0m\n\u001b[1;32m----> 1\u001b[0m \u001b[38;5;28;01mimport\u001b[39;00m \u001b[38;5;21;01mwed3\u001b[39;00m\n",
      "\u001b[1;31mModuleNotFoundError\u001b[0m: No module named 'wed3'"
     ]
    }
   ],
   "source": [
    "import wed3"
   ]
  },
  {
   "cell_type": "code",
   "execution_count": null,
   "id": "623ee324",
   "metadata": {},
   "outputs": [],
   "source": [
    "def read_sensor():\n",
    "    d = dht.DHT22(Pin(15))\n",
    "    d.measure()\n",
    "    temp = d.temperature()\n",
    "    hum = d.humidity()\n",
    "    return temp, hum\n",
    "\n",
    "# Kết nối và gửi MQTT\n",
    "def connect_mqtt():\n",
    "    client = MQTTClient(MQTT_CLIENT_ID, MQTT_BROKER, port = MQTT_PORT)\n",
    "    client.connect()\n",
    "    print(\"Kết nối MQTT thành công\")\n",
    "    return client\n",
    "\n",
    "# Main\n",
    "connect_wifi()\n",
    "mqtt_client = connect_mqtt()\n",
    "\n",
    "from collections import OrderedDict\n",
    "while True:\n",
    "    temp, hum = read_sensor()\n",
    "\n",
    "    data = OrderedDict()\n",
    "    data['temperature'] = temp\n",
    "    data['humidity'] = hum\n",
    "    data['timestamp'] = time.time()\n",
    "\n",
    "    json_data = json.dumps(data)\n",
    "    mqtt_client.publish(MQTT_TOPIC, json_data)\n",
    "    print(\"Đã gửi dữ liệu: \", json_data)\n",
    "    time.sleep(2)  "
   ]
  }
 ],
 "metadata": {
  "kernelspec": {
   "display_name": "base",
   "language": "python",
   "name": "python3"
  },
  "language_info": {
   "codemirror_mode": {
    "name": "ipython",
    "version": 3
   },
   "file_extension": ".py",
   "mimetype": "text/x-python",
   "name": "python",
   "nbconvert_exporter": "python",
   "pygments_lexer": "ipython3",
   "version": "3.12.7"
  }
 },
 "nbformat": 4,
 "nbformat_minor": 5
}
