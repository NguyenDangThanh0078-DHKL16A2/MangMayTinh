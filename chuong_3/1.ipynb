{
 "cells": [
  {
   "cell_type": "code",
   "execution_count": null,
   "metadata": {},
   "outputs": [
    {
     "data": {
      "text/plain": [
       "http://api.weatherapi.com/v1/current.json?key=b0c5eecd620e4a0eb9965807252603&q=Hanoi&aqi=no\n",
       "Failed to retrieve data 403\n"
      ]
     },
     "metadata": {},
     "output_type": "display_data"
    }
   ],
   "source": [
    "import requests\n",
    "\n",
    "API_KEY = 'b0c5eecd620e4a0eb9965807252603'  # Đảm bảo API key hợp lệ\n",
    "city = 'Hanoi'\n",
    "\n",
    "url = f'http://api.weatherapi.com/v1/current.json?key={API_KEY}&q={city}&aqi=no'\n",
    "print(url)\n",
    "response = requests.get(url)\n",
    "\n",
    "if response.status_code == 200:\n",
    "    data = response.json()\n",
    "\n",
    "    time = data['current']['last_updated']\n",
    "    temp = data['current']['temp_c']\n",
    "    humidity = data['current']['humidity']\n",
    "    condition = data['current']['condition']['text']\n",
    "\n",
    "    print(f'The weather in {city} is {condition}, {temp}°C, độ ẩm {humidity}%.')\n",
    "else:\n",
    "    print('Failed to retrieve data', response.status_code)\n"
   ]
  },
  {
   "cell_type": "code",
   "execution_count": null,
   "metadata": {},
   "outputs": [
    {
     "data": {
      "text/plain": [
       "                                            Tên sách  Giá Thương hiệu\n",
       "0  Sách - Bộ sách giao tiếp - Thuật thôi miên tro...   78    không rõ\n",
       "1               Sách - Phương Pháp Đọc Sách Hiệu Quả  129    không rõ\n",
       "2                                Đọc Sách, Điểm Sách   40    không rõ\n",
       "3  Sách Phân Tâm Học Nhập Môn (Tặng kèm Bộ Bookma...  143    không rõ\n",
       "4  Sách Nghệ Thuật Tư Duy Rành Mạch (Tặng kèm Bộ ...  106    không rõ\n",
       "5            Sách - Làm thế nào để đọc sách hiệu quả   80    không rõ\n",
       "6                        Sách - Bản Thiết Kế Trí Tuệ  127    không rõ\n",
       "7  Sách Bức Xúc Không Làm Ta Vô Can (Tặng kèm Bộ ...   85    không rõ\n",
       "8  Sách Phương Pháp Đọc Sách Hiệu Quả (Tái bản Mớ...  134    không rõ\n",
       "9  Phương Pháp Đọc Sách Hiệu Quả (*** Sách Bản Qu...  134    không rõ\n"
      ]
     },
     "metadata": {},
     "output_type": "display_data"
    }
   ],
   "source": [
    "import requests\n",
    "import pandas as pd\n",
    "\n",
    "url = \"https://tiki.vn/api/v2/products?limit=10&q=s%C3%A1ch\"\n",
    "\n",
    "params = {\n",
    "    \"limit\": 10,\n",
    "    \"q\": \"sách\"\n",
    "}\n",
    "\n",
    "headers = {\n",
    "    \"User-Agent\": \"Mozilla/5.0 \"\n",
    "}\n",
    "\n",
    "response = requests.get(url, params=params, headers=headers)\n",
    "data = response.json()\n",
    "\n",
    "books = []\n",
    "for item in data['data']:\n",
    "    books.append({\n",
    "        \"Tên sách\": item['name'],\n",
    "        \"Giá\": item['price'] // 1000,\n",
    "        \"Thương hiệu\": item.get('brand',{}).get('name','không rõ')\n",
    "        # \"Mô tả\": item['description']\n",
    "    })\n",
    "df = pd.DataFrame(books)\n",
    "print(df)"
   ]
  }
 ],
 "metadata": {
  "language_info": {
   "name": "python"
  }
 },
 "nbformat": 4,
 "nbformat_minor": 2
}
