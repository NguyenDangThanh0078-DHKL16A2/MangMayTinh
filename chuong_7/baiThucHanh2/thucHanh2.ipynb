{
 "cells": [
  {
   "cell_type": "code",
   "execution_count": 2,
   "id": "579cd208",
   "metadata": {},
   "outputs": [
    {
     "name": "stdout",
     "output_type": "stream",
     "text": [
      "Xác thực thành công!\n"
     ]
    }
   ],
   "source": [
    "# Đăng ký và xác thực mật khẩu đơn giản\n",
    "import getpass\n",
    "\n",
    "# Đăng ký mật khẩu\n",
    "password = getpass.getpass(\"Đăng ký mật khẩu: \")\n",
    "\n",
    "# Xác thực mật khẩu\n",
    "input_password = getpass.getpass(\"Nhập lại mật khẩu để xác thực: \")\n",
    "if input_password == password:\n",
    "    print(\"Xác thực thành công!\")\n",
    "else:\n",
    "    print(\"Sai mật khẩu!\")"
   ]
  },
  {
   "cell_type": "code",
   "execution_count": 5,
   "id": "f1f2bbe2",
   "metadata": {},
   "outputs": [
    {
     "name": "stdout",
     "output_type": "stream",
     "text": [
      "Secret key (lưu lại để dùng cho xác thực 2FA): FYYYQEJYX6MSAN4RZVPUH43436MUEZKA\n",
      "Mã OTP hiện tại: 892313\n",
      "OTP hợp lệ!\n"
     ]
    }
   ],
   "source": [
    "import pyotp\n",
    "import time\n",
    "\n",
    "# Tạo secret key cho người dùng\n",
    "secret = pyotp.random_base32()\n",
    "print(\"Secret key (lưu lại để dùng cho xác thực 2FA):\", secret)\n",
    "\n",
    "# Tạo đối tượng TOTP\n",
    "totp = pyotp.TOTP(secret)\n",
    "\n",
    "# Sinh mã OTP hiện tại\n",
    "otp_now = totp.now()\n",
    "print(\"Mã OTP hiện tại:\", otp_now)\n",
    "\n",
    "# Xác thực OTP\n",
    "user_otp = input(\"Nhập mã OTP: \")\n",
    "if totp.verify(user_otp):\n",
    "    print(\"OTP hợp lệ!\")\n",
    "else:\n",
    "    print(\"OTP không hợp lệ!\")"
   ]
  },
  {
   "cell_type": "code",
   "execution_count": 6,
   "id": "263237e7",
   "metadata": {},
   "outputs": [
    {
     "name": "stdout",
     "output_type": "stream",
     "text": [
      "Secret key cho 2FA (lưu lại để dùng với Google Authenticator): HXNIH6X2IHCKWEGOU6SJ7C2GYEYIBXJO\n",
      "Mã OTP hiện tại: 917944\n",
      "Xác thực 2FA thành công!\n"
     ]
    }
   ],
   "source": [
    "import getpass\n",
    "import pyotp\n",
    "\n",
    "# Đăng ký mật khẩu\n",
    "password = getpass.getpass(\"Đăng ký mật khẩu: \")\n",
    "\n",
    "# Tạo secret key cho 2FA\n",
    "secret = pyotp.random_base32()\n",
    "print(\"Secret key cho 2FA (lưu lại để dùng với Google Authenticator):\", secret)\n",
    "\n",
    "# Xác thực 2 lớp\n",
    "input_password = getpass.getpass(\"Nhập mật khẩu: \")\n",
    "if input_password == password:\n",
    "    totp = pyotp.TOTP(secret)\n",
    "    print(\"Mã OTP hiện tại:\", totp.now())\n",
    "    user_otp = input(\"Nhập mã OTP: \")\n",
    "    if totp.verify(user_otp):\n",
    "        print(\"Xác thực 2FA thành công!\")\n",
    "    else:\n",
    "        print(\"Sai mã OTP!\")\n",
    "else:\n",
    "    print(\"Sai mật khẩu!\")"
   ]
  }
 ],
 "metadata": {
  "kernelspec": {
   "display_name": "base",
   "language": "python",
   "name": "python3"
  },
  "language_info": {
   "codemirror_mode": {
    "name": "ipython",
    "version": 3
   },
   "file_extension": ".py",
   "mimetype": "text/x-python",
   "name": "python",
   "nbconvert_exporter": "python",
   "pygments_lexer": "ipython3",
   "version": "3.12.7"
  }
 },
 "nbformat": 4,
 "nbformat_minor": 5
}
