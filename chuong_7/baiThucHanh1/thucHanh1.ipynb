{
 "cells": [
  {
   "cell_type": "code",
   "execution_count": null,
   "id": "573219d4",
   "metadata": {},
   "outputs": [
    {
     "name": "stdout",
     "output_type": "stream",
     "text": [
      "Ciphertext (AES): b'K\\x8e\\xbeA\\xe5k\\x1a\\xb8\\xcc\\xbf\\x19\\xf1\\xe7\\x10\\x80|\\xfd\\xa5\\x81\\xca1\\xb3K\\xc1\\xe80\\x9ef\\xe0p\\r['\n",
      "Plaintext (AES): Hello AES encryption!\n"
     ]
    }
   ],
   "source": [
    "# AES - Mã hóa đối xứng\n",
    "from Crypto.Cipher import AES\n",
    "from Crypto.Random import get_random_bytes\n",
    "from Crypto.Util.Padding import pad, unpad\n",
    "\n",
    "# Tạo khóa và IV\n",
    "key = get_random_bytes(16)  # 128-bit key\n",
    "iv = get_random_bytes(16)\n",
    "\n",
    "# Văn bản gốc\n",
    "data = b'Hello AES encryption!'\n",
    "\n",
    "# Mã hóa\n",
    "cipher = AES.new(key, AES.MODE_CBC, iv)\n",
    "ciphertext = cipher.encrypt(pad(data, AES.block_size))\n",
    "print(\"Ciphertext (AES):\", ciphertext)\n",
    "\n",
    "# Giải mã\n",
    "decipher = AES.new(key, AES.MODE_CBC, iv)\n",
    "plaintext = unpad(decipher.decrypt(ciphertext), AES.block_size)\n",
    "print(\"Plaintext (AES):\", plaintext.decode())"
   ]
  },
  {
   "cell_type": "code",
   "execution_count": 1,
   "id": "85550cec",
   "metadata": {},
   "outputs": [
    {
     "name": "stdout",
     "output_type": "stream",
     "text": [
      "Ciphertext (RSA): b'\\x98djv%\\x9e\\xdba\\xcaJ@\\x0622\\x81\\x01g\\xd7\\x96\\xbc\\x9c\\xb5\\x00aK\\x0c\\xcb\\xa1\\xb9\\x92\\xd0\\x87R0r\\xe0@\\xc8\\xf7?\\xd4\\xd6\\xdbz\"\\xf8\\x1e\\\\B\\xd4*\\xb4T5\\xbe\\'g\\xa8\\x86\\x15\\x8a\\r\\xc8\\xb5\\xe0m*\\x8b\\xaa^>\\xa2\\x05\\xbaT\\xb3TI\\xdf\\xfb#\\xf3\\xf3pOPWJH\\x83\\xb6v\\'Q\\t\\x0b\\xfe\\xf0\\xdd;\\x88\\xd97\\xea\\xbd\\xcf\\x8e\\x9a\\xc7\\x00\\x11\\xc5\\x9c\\x87\\xc8s\\xca\\xbf\\xbd\\xcd\\x02\\xeeDp\\xf4\\xadq\\xd8\\x16d\\x19v\\xf4\\x10\\xfb\\xd8U\\x9d\\xcaaI\\x9eg\\xde\\xc1h\\xa4\\x96\\x12-P~\\xf1x\\xbc\\xd9\\xec\\x80 \\x1a\\x03\\x18E\\xb5\\xc2)\\x9eY\\x19C\\xb3\\xb0Tj\\xde\\t\\x8a\\xb8\\x9f\\x00\\xcf=\\xf5\\xb8\\x92\\xb6p\\xd0\\xd2|\\xf5\\xa3\\x90\\xb1\\x01\\xd9\\xe2j$x.\\xecj\\'\\x9b\\x06\\x8a\\xceS\\xaak\\xb5W\\xc6m\\xcf\\xb1\\xdd-\\xf6\\xbf\\x89\\xda&x]\\xf55\\xd3\\xba\\x0f\\x1a\\x15\\xfc\\x9d\\x08\\x826\\x92\\r6\\x0esU\\x86\\x8a\\xeb\\xaa\\xf3\\xc4\\xc3\\x91\\xb7EE\\xd9'\n",
      "Plaintext (RSA): Hello RSA encryption!\n"
     ]
    }
   ],
   "source": [
    "# RSA - Mã hóa bất đối xứng\n",
    "from Crypto.PublicKey import RSA\n",
    "from Crypto.Cipher import PKCS1_OAEP\n",
    "\n",
    "# Tạo cặp khóa\n",
    "key = RSA.generate(2048)\n",
    "private_key = key\n",
    "public_key = key.publickey()\n",
    "\n",
    "# Mã hóa\n",
    "cipher_rsa = PKCS1_OAEP.new(public_key)\n",
    "encrypted = cipher_rsa.encrypt(b'Hello RSA encryption!')\n",
    "print(\"Ciphertext (RSA):\", encrypted)\n",
    "\n",
    "# Giải mã\n",
    "decipher_rsa = PKCS1_OAEP.new(private_key)\n",
    "decrypted = decipher_rsa.decrypt(encrypted)\n",
    "print(\"Plaintext (RSA):\", decrypted.decode())"
   ]
  }
 ],
 "metadata": {
  "kernelspec": {
   "display_name": "base",
   "language": "python",
   "name": "python3"
  },
  "language_info": {
   "codemirror_mode": {
    "name": "ipython",
    "version": 3
   },
   "file_extension": ".py",
   "mimetype": "text/x-python",
   "name": "python",
   "nbconvert_exporter": "python",
   "pygments_lexer": "ipython3",
   "version": "3.12.7"
  }
 },
 "nbformat": 4,
 "nbformat_minor": 5
}
